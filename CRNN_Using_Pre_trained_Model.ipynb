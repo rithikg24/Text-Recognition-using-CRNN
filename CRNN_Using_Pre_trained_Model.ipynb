{
  "nbformat": 4,
  "nbformat_minor": 0,
  "metadata": {
    "colab": {
      "provenance": [],
      "gpuType": "T4"
    },
    "kernelspec": {
      "name": "python3",
      "display_name": "Python 3"
    },
    "language_info": {
      "name": "python"
    },
    "accelerator": "GPU"
  },
  "cells": [
    {
      "cell_type": "code",
      "source": [
        "!git clone https://github.com/GitYCC/crnn-pytorch.git"
      ],
      "metadata": {
        "colab": {
          "base_uri": "https://localhost:8080/"
        },
        "id": "oXL94e2hhpTP",
        "outputId": "06f95546-40c1-4f24-83fd-e07a8d2c596a"
      },
      "execution_count": 1,
      "outputs": [
        {
          "output_type": "stream",
          "name": "stdout",
          "text": [
            "Cloning into 'crnn-pytorch'...\n",
            "remote: Enumerating objects: 66, done.\u001b[K\n",
            "remote: Counting objects: 100% (23/23), done.\u001b[K\n",
            "remote: Compressing objects: 100% (11/11), done.\u001b[K\n",
            "remote: Total 66 (delta 14), reused 13 (delta 12), pack-reused 43\u001b[K\n",
            "Receiving objects: 100% (66/66), 28.10 MiB | 32.63 MiB/s, done.\n",
            "Resolving deltas: 100% (22/22), done.\n"
          ]
        }
      ]
    },
    {
      "cell_type": "code",
      "source": [
        "!cd crnn-pytorch && pip install -r requirements.txt"
      ],
      "metadata": {
        "id": "EwAe9VtIhtXO"
      },
      "execution_count": null,
      "outputs": []
    },
    {
      "cell_type": "code",
      "source": [
        "!cd crnn-pytorch && python src/predict.py demo/*.jpg"
      ],
      "metadata": {
        "colab": {
          "base_uri": "https://localhost:8080/"
        },
        "id": "K_T6y90gjFNx",
        "outputId": "f5baa6d2-006a-4d88-c1f4-af52e2d522dd"
      },
      "execution_count": 6,
      "outputs": [
        {
          "output_type": "stream",
          "name": "stdout",
          "text": [
            "device: cuda\n",
            "Predict: 100% 1/1 [00:03<00:00,  3.54s/it]\n",
            "\n",
            "===== result =====\n",
            "demo/170_READING_62745.jpg > reading\n",
            "demo/178_Showtime_70541.jpg > showtime\n",
            "demo/78_Novel_52433.jpg > novel\n"
          ]
        }
      ]
    }
  ]
}